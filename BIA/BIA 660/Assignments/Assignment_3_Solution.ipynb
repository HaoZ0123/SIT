{
 "cells": [
  {
   "cell_type": "markdown",
   "metadata": {},
   "source": [
    "# Assignment 3: Web Scraping"
   ]
  },
  {
   "cell_type": "markdown",
   "metadata": {},
   "source": [
    "## Q1. Scrape Movie Reviews (5 points)\n",
    "\n",
    "- Choose one of your favorite movies and find this id of this movie at rottentomatoes.com\n",
    "- Write a function getData(*movie_id*) to scrape reviews, including review date (see (2) in Figure), review description (see (1) in Figure), and score (see (3) in Figure) from the current page. \n",
    "    * Input: movie id in rottentomatoes \n",
    "    * Output: a list of 20 tuples, i.e. [(\"February 19, 2019\", \"It's a typically excellent offering from the...\" , \"5/5\"), ...]\n",
    "- Test your function with a few movies to make your function is generic enough\n",
    "\n",
    "Example: \n",
    "- https://www.rottentomatoes.com/m/finding_dory/reviews/\n",
    "- in total, 20 reviews returned\n",
    "<img src=\"review.png\">\n"
   ]
  },
  {
   "cell_type": "markdown",
   "metadata": {},
   "source": [
    "## Q2. Plot data (5 points)\n",
    "- Create a function plot_data which (overall 1 point)\n",
    "  * takes the list of tuples from Q1 as an input\n",
    "  * converts the ratings to numbers. For example, 3.5/5 is converted to 0.7. For all reviews without a rating or with an alphabetic rating (e.g. A), set its rating to None (2 points)\n",
    "    - Hint: you can use try/except block to handle ratings which cannot be converted floats.\n",
    "  * calculates the average rating by the year of the review date (1 point)\n",
    "  * plots a bar chart for the average rating of each year. The plot may look similar to the figure below. (1 point)\n",
    "  <img src='plot.png' width='50%'>"
   ]
  },
  {
   "cell_type": "markdown",
   "metadata": {},
   "source": [
    "### Q3 (Bonus) Expand your solution to Q1 to scrape all the views for a movie.  (3 points)\n",
    "- Write a function getFullData(*movie_id*) to scrape reviews in all the pages. For the example shown in Figure of Q1, reviews are organized into 16 pages (See (4) of the figure). Scrape reviews from all the 16 pages. Save the result similar to Q1.\n",
    "- Note, you **should not hardcode** the number of pages, because the number of pages varies by movies. Instead, you should dynamically determine if the next review page exists or not. "
   ]
  },
  {
   "cell_type": "code",
   "execution_count": 13,
   "metadata": {},
   "outputs": [
    {
     "name": "stdout",
     "output_type": "stream",
     "text": [
      "[(u' February 19, 2019', u\" It's a typically excellent offering from the studio, filled with big laughs and bigger feelings.\", u'5/5'), (u' February 1, 2019', u' Finding Dory is a sweet tale that will have audiences cheering our blue friend on as she \"just keeps swimming.\"', None), (u' January 29, 2019', u' While it may not deliver the freshness of Finding Nemo, it is still overflowing with warmth, laughs, and genuine charm.', u'3.5/5'), (u' January 15, 2019', u\" The animation is crisp and the visuals are sharp as this world comes to life on the big screen. There's also a nice little message about family.\", u'B'), (u' December 31, 2018', u' What Finding Dory does get right is its Pixar pathos, eliciting tears at just the right moments, even when one is expecting it.', u'3/5'), (u' December 6, 2018', u' Feels more than a little familiar ... the similarities between this and its predecessor will likely make many see it as an inferior Pixar film, if there is such a thing.', u'8.9/10'), (u' November 7, 2018', u' Sure, Disney green lit this for financial purposes first and foremost, but the final product feels like a labour of love, a crowd pleasing joy that really does need to be seen with the biggest crowd possible.', u'4.5/5'), (u' November 1, 2018', u\" While it may not rank high in the Pixar canon, Finding Dory is still great fun for the whole family, has a simple but important message and it shows that's Pixar reign is far from over.\", u'3.5/5'), (u' October 31, 2018', u\" It wisely changes up its tone to fit its main character rather than trying to shove Dory into a box she doesn't fit in.\", u'8/10'), (u' October 23, 2018', u' Finding Dory lacks the spark of something truly new that illuminates the best of Pixar, but it still works. ', u'B+'), (u' September 5, 2018', u\" Finding Dory lives up to the standers Dory has set. Cute, sweet and well put together, you'll enjoy this day at the theater.\", None), (u' August 30, 2018', u' The film challenges a good lesson for parents and people to not be prejudice with people with disabilities but instead be patient with them.', u'3.5/5'), (u' August 27, 2018', u' The sequel revisits many of the jokes of the original in an inoffensive yet ultimately unfulfilling way, making the case that Pixar should stick with originals.', None), (u' August 23, 2018', u\" While DeGeneres's ditziness can be an acquired taste at times, it suits Dory perfectly.\", u'4/5'), (u' August 22, 2018', u' \"Finding Dory\" is thirteen years in the making and, while it brings back some familiar faces, it feels fresh and engaging, but still manages to make us feel like we\\'re visiting with old friends.', u'4/5'), (u' August 22, 2018', u\" The simplicity of the plot makes it easy for the wee ones to follow, but adults will enjoy the multi-level fact that Nemo and his dad are not the only ones trying to find Dory -- she's trying to find herself. \", None), (u' August 22, 2018', u' \"Finding Dory\" strikes just the right notes when it comes to creating a film with heart and a positive message.', u'3.5/4'), (u' March 21, 2018', u\" What sets Pixar's films apart is the studio's ability to embrace the darkness, dread and possibility of failure Dory faces. That's what brings Finding Dory close to the heights of Finding Nemo. \", u'4/5'), (u' March 5, 2018', u\" Even if Dory doesn't quite measure up to its groundbreaking predecessor, it still provides plenty of entertainment as well as some wonderful opportunities to discuss with children.\", None), (u' February 26, 2018', u\" The animation is sill absolutely beautiful...There's some great jokes in this movie. And the cast just does a great job. \", None)]\n",
      "                 date                                               text  \\\n",
      "0   February 19, 2019   It's a typically excellent offering from the ...   \n",
      "1    February 1, 2019   Finding Dory is a sweet tale that will have a...   \n",
      "2    January 29, 2019   While it may not deliver the freshness of Fin...   \n",
      "3    January 15, 2019   The animation is crisp and the visuals are sh...   \n",
      "4   December 31, 2018   What Finding Dory does get right is its Pixar...   \n",
      "\n",
      "  rating  year  score  \n",
      "0    5/5  2019    1.0  \n",
      "1   None  2019    NaN  \n",
      "2  3.5/5  2019    0.7  \n",
      "3      B  2019    NaN  \n",
      "4    3/5  2018    0.6  \n"
     ]
    },
    {
     "data": {
      "image/png": "[encoded data removed]",
      "text/plain": [
       "<matplotlib.figure.Figure at 0x114771390>"
      ]
     },
     "metadata": {},
     "output_type": "display_data"
    },
    {
     "name": "stdout",
     "output_type": "stream",
     "text": [
      "https://www.rottentomatoes.com/m/finding_dory/reviews/?page=2&sort=\n",
      "https://www.rottentomatoes.com/m/finding_dory/reviews/?page=3&sort=\n",
      "https://www.rottentomatoes.com/m/finding_dory/reviews/?page=4&sort=\n",
      "https://www.rottentomatoes.com/m/finding_dory/reviews/?page=5&sort=\n",
      "https://www.rottentomatoes.com/m/finding_dory/reviews/?page=6&sort=\n",
      "https://www.rottentomatoes.com/m/finding_dory/reviews/?page=7&sort=\n",
      "https://www.rottentomatoes.com/m/finding_dory/reviews/?page=8&sort=\n",
      "https://www.rottentomatoes.com/m/finding_dory/reviews/?page=9&sort=\n",
      "https://www.rottentomatoes.com/m/finding_dory/reviews/?page=10&sort=\n",
      "https://www.rottentomatoes.com/m/finding_dory/reviews/?page=11&sort=\n",
      "https://www.rottentomatoes.com/m/finding_dory/reviews/?page=12&sort=\n",
      "https://www.rottentomatoes.com/m/finding_dory/reviews/?page=13&sort=\n",
      "https://www.rottentomatoes.com/m/finding_dory/reviews/?page=14&sort=\n",
      "https://www.rottentomatoes.com/m/finding_dory/reviews/?page=15&sort=\n",
      "https://www.rottentomatoes.com/m/finding_dory/reviews/?page=16&sort=\n",
      "https://www.rottentomatoes.com#\n",
      "(313, (u' June 10, 2016', u\" Pixar's best film since Up, and a compelling argument as to why we make sequels in the first place. \", u'B+'))\n"
     ]
    }
   ],
   "source": [
    "import requests\n",
    "from bs4 import BeautifulSoup  \n",
    "import pandas as pd\n",
    "import matplotlib.pyplot as plt\n",
    "\n",
    " # Q1   \n",
    "    \n",
    "    \n",
    "def scrape_page(soup):\n",
    "    \n",
    "    data =[]       \n",
    "    \n",
    "    divs=soup.select(\"div.review_area\")\n",
    "            \n",
    "    for idx, div in enumerate(divs):\n",
    "    \n",
    "        date=None\n",
    "        review=None\n",
    "        score=None\n",
    "            \n",
    "        # get title\n",
    "        review_date=div.select(\"div.review_date\")\n",
    "        if review_date!=[]:\n",
    "            date=review_date[0].get_text()\n",
    "            \n",
    "        # get review\n",
    "        review_desc=div.select(\"div.review_desc div.the_review\")\n",
    "        if review_desc!=[]:\n",
    "            review=review_desc[0].get_text()\n",
    "           \n",
    "        # get score\n",
    "        review_score=div.select(\"div.review_desc div.small.subtle\")\n",
    "        if review_score!=[]:\n",
    "            score_text=review_score[0].get_text()\n",
    "            if \"Original Score\" in score_text:\n",
    "                score=score_text[(score_text.find(\"Original Score\")+16):]\n",
    "\n",
    "        # add title, description, and temperature as a tuple into the list\n",
    "        data.append((date, review, score))\n",
    "        \n",
    "    return data\n",
    "    \n",
    "def getData(movie_id):\n",
    "    \n",
    "    \n",
    "    data=[]\n",
    "    base_url=\"https://www.rottentomatoes.com\"\n",
    "    page_url=\"https://www.rottentomatoes.com/m/\"+movie_id+\"/reviews/\"\n",
    "\n",
    "    page = requests.get(page_url) \n",
    "\n",
    "    if page.status_code==200:         # status_code 200 indicates success. a status code >200 indicates a failure \n",
    "        soup = BeautifulSoup(page.content, 'html.parser')\n",
    "        data = scrape_page(soup)\n",
    "\n",
    "    return data\n",
    "\n",
    "\n",
    "#Q2\n",
    "def getRating(s):\n",
    "    result = None\n",
    "    try:\n",
    "        n = s.split(\"/\")\n",
    "        result = float(n[0])/float(n[1])\n",
    "    except:\n",
    "        pass\n",
    "    return result\n",
    "        \n",
    "def plot_data(data):\n",
    "    \n",
    "    df = pd.DataFrame(data, columns=[\"date\", \"text\",\"rating\"])\n",
    "    df[\"year\"]= df.apply(lambda row: row[\"date\"][-4:] if row[\"date\"]!=None else None, axis=1)\n",
    "    df[\"score\"]= df.apply(lambda row: getRating(row[\"rating\"]), axis=1)\n",
    "    print(df.head())\n",
    "    df.groupby(\"year\")[\"score\"].mean().plot.bar(title=\"average rating by year\")\n",
    "    plt.show()\n",
    "                          \n",
    "    \n",
    "# Q3\n",
    "def getFullData(movie_id):\n",
    "    data=[]\n",
    "    \n",
    "    reviews=[]\n",
    "    base_url=\"https://www.rottentomatoes.com\"\n",
    "    page_url=\"https://www.rottentomatoes.com/m/\"+movie_id+\"/reviews/\"\n",
    "    \n",
    "    while page_url!=None:\n",
    "        page = requests.get(page_url) \n",
    "\n",
    "        if page.status_code!=200:         # status_code 200 indicates success. a status code >200 indicates a failure \n",
    "            page_url=None\n",
    "        else:\n",
    "            soup = BeautifulSoup(page.content, 'html.parser')  \n",
    "            data += scrape_page(soup)\n",
    "            \n",
    "            page_url=None\n",
    "            next_page=soup.select(\"div.content div a.btn.btn-xs.btn-primary-rt span.glyphicon.glyphicon-chevron-right\")\n",
    "            #print next_page\n",
    "            if next_page!=[]:\n",
    "                next_url=next_page[0].parent\n",
    "                page_url= base_url+next_url[\"href\"]\n",
    "                print page_url\n",
    "    \n",
    "    return data\n",
    "\n",
    "\n",
    "\n",
    "if __name__ == \"__main__\":  \n",
    "    \n",
    "    # Test Q1\n",
    "    data=getData(\"finding_dory\")\n",
    "    print(data)\n",
    "    \n",
    "    # Test Q2\n",
    "    plot_data(data)\n",
    "    \n",
    "    # Test Q3\n",
    "    data=getFullData(\"finding_dory\")\n",
    "    print(len(data), data[-1])\n",
    "    plot_data(data)"
   ]
  },
  {
   "cell_type": "code",
   "execution_count": null,
   "metadata": {
    "collapsed": true
   },
   "outputs": [],
   "source": []
  }
 ],
 "metadata": {
  "kernelspec": {
   "display_name": "Python 3",
   "language": "python",
   "name": "python3"
  },
  "language_info": {
   "codemirror_mode": {
    "name": "ipython",
    "version": 3
   },
   "file_extension": ".py",
   "mimetype": "text/x-python",
   "name": "python",
   "nbconvert_exporter": "python",
   "pygments_lexer": "ipython3",
   "version": "3.6.2"
  }
 },
 "nbformat": 4,
 "nbformat_minor": 2
}
