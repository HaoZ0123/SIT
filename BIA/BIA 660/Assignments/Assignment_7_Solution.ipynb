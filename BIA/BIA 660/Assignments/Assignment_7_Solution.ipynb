{
 "cells": [
  {
   "cell_type": "code",
   "execution_count": 1,
   "metadata": {
    "collapsed": true
   },
   "outputs": [],
   "source": [
    "from IPython.core.interactiveshell import InteractiveShell\n",
    "InteractiveShell.ast_node_interactivity = \"all\""
   ]
  },
  {
   "cell_type": "code",
   "execution_count": 3,
   "metadata": {
    "collapsed": true
   },
   "outputs": [],
   "source": [
    "# Load data and prepare text and target\n",
    "import json\n",
    "\n",
    "data=json.load(open('../dataset/ydata_3group.json','r'))"
   ]
  },
  {
   "cell_type": "code",
   "execution_count": 4,
   "metadata": {},
   "outputs": [],
   "source": [
    "text,first_label,all_label=zip(*data)\n",
    "\n",
    "text=list(text)\n",
    "first_label=list(first_label)\n",
    "all_labels=list(all_label)\n"
   ]
  },
  {
   "cell_type": "code",
   "execution_count": 5,
   "metadata": {},
   "outputs": [
    {
     "data": {
      "text/plain": [
       "(4021, 3)"
      ]
     },
     "execution_count": 5,
     "metadata": {},
     "output_type": "execute_result"
    },
    {
     "name": "stdout",
     "output_type": "stream",
     "text": [
      "['T1' 'T2' 'T3']\n"
     ]
    },
    {
     "data": {
      "text/plain": [
       "array([1468, 1370, 1337])"
      ]
     },
     "execution_count": 5,
     "metadata": {},
     "output_type": "execute_result"
    }
   ],
   "source": [
    "from sklearn.preprocessing import MultiLabelBinarizer\n",
    "import numpy as np\n",
    "\n",
    "mlb = MultiLabelBinarizer()\n",
    "Y=mlb.fit_transform(list(all_labels))\n",
    "# check size of indicator matrix\n",
    "Y.shape\n",
    "# check classes\n",
    "print(mlb.classes_)\n",
    "\n",
    "np.sum(Y, axis=0)"
   ]
  },
  {
   "cell_type": "code",
   "execution_count": 6,
   "metadata": {},
   "outputs": [],
   "source": [
    "# Task 1: K means\n",
    "from sklearn.feature_extraction.text import TfidfVectorizer\n",
    "\n",
    "# initialize the TfidfVectorizer \n",
    "# set min document frequency to 5\n",
    "\n",
    "tfidf_vect = TfidfVectorizer(stop_words=\"english\",\\\n",
    "                             min_df=5) \n",
    "\n",
    "# generate tfidf matrix\n",
    "dtm= tfidf_vect.fit_transform(text)\n"
   ]
  },
  {
   "cell_type": "code",
   "execution_count": 9,
   "metadata": {},
   "outputs": [],
   "source": [
    "from nltk.cluster import KMeansClusterer, cosine_distance\n",
    "\n",
    "# set number of clusters\n",
    "num_clusters=3\n",
    "\n",
    "clusterer = KMeansClusterer(num_clusters, \\\n",
    "                            cosine_distance, \\\n",
    "                            repeats=10)\n",
    "\n",
    "# samples are assigned to cluster labels starting from 0\n",
    "clusters = clusterer.cluster(dtm.toarray(), \\\n",
    "                             assign_clusters=True)\n"
   ]
  },
  {
   "cell_type": "code",
   "execution_count": 10,
   "metadata": {},
   "outputs": [
    {
     "name": "stdout",
     "output_type": "stream",
     "text": [
      "Cluster 0: said; crash; bus; police; plane; train; passengers; car; cruise; airlines; people; flight; accident; says; road; driver; traffic; airport; city; new \n",
      "Cluster 1: said; oil; bp; people; japan; spill; water; gulf; disaster; nuclear; earthquake; pakistan; tsunami; quake; floods; plant; relief; million; government; coast \n",
      "Cluster 2: percent; tax; said; year; obama; economy; rate; comment; billion; government; economic; new; budget; debt; bank; growth; rail; market; jobs; spending \n"
     ]
    }
   ],
   "source": [
    "from sklearn import metrics\n",
    "import numpy as np\n",
    "\n",
    "centroids=np.array(clusterer.means())\n",
    "\n",
    "sorted_centroids = centroids.argsort()[:, ::-1] \n",
    "\n",
    "voc_lookup= tfidf_vect.get_feature_names()\n",
    "\n",
    "for i in range(num_clusters):\n",
    "    \n",
    "    # get words with top 20 tf-idf weight in the centroid\n",
    "    top_words=[voc_lookup[word_index] \\\n",
    "               for word_index in sorted_centroids[i, :20]]\n",
    "    print(\"Cluster %d: %s \" % (i, \"; \".join(top_words)))\n",
    "\n",
    "# Cluster 0: Travel & Transportation\n",
    "# Cluster 1: Disaster and Accident\n",
    "# Cluster 2: News and Economy"
   ]
  },
  {
   "cell_type": "code",
   "execution_count": 11,
   "metadata": {},
   "outputs": [
    {
     "data": {
      "text/html": [
       "<div>\n",
       "<style>\n",
       "    .dataframe thead tr:only-child th {\n",
       "        text-align: right;\n",
       "    }\n",
       "\n",
       "    .dataframe thead th {\n",
       "        text-align: left;\n",
       "    }\n",
       "\n",
       "    .dataframe tbody tr th {\n",
       "        vertical-align: top;\n",
       "    }\n",
       "</style>\n",
       "<table border=\"1\" class=\"dataframe\">\n",
       "  <thead>\n",
       "    <tr style=\"text-align: right;\">\n",
       "      <th></th>\n",
       "      <th>actual_class</th>\n",
       "      <th>cluster</th>\n",
       "    </tr>\n",
       "  </thead>\n",
       "  <tbody>\n",
       "    <tr>\n",
       "      <th>0</th>\n",
       "      <td>T3</td>\n",
       "      <td>0</td>\n",
       "    </tr>\n",
       "    <tr>\n",
       "      <th>1</th>\n",
       "      <td>T2</td>\n",
       "      <td>2</td>\n",
       "    </tr>\n",
       "    <tr>\n",
       "      <th>2</th>\n",
       "      <td>T2</td>\n",
       "      <td>2</td>\n",
       "    </tr>\n",
       "    <tr>\n",
       "      <th>3</th>\n",
       "      <td>T3</td>\n",
       "      <td>0</td>\n",
       "    </tr>\n",
       "    <tr>\n",
       "      <th>4</th>\n",
       "      <td>T2</td>\n",
       "      <td>2</td>\n",
       "    </tr>\n",
       "  </tbody>\n",
       "</table>\n",
       "</div>"
      ],
      "text/plain": [
       "  actual_class  cluster\n",
       "0           T3        0\n",
       "1           T2        2\n",
       "2           T2        2\n",
       "3           T3        0\n",
       "4           T2        2"
      ]
     },
     "execution_count": 11,
     "metadata": {},
     "output_type": "execute_result"
    },
    {
     "data": {
      "text/html": [
       "<div>\n",
       "<style>\n",
       "    .dataframe thead tr:only-child th {\n",
       "        text-align: right;\n",
       "    }\n",
       "\n",
       "    .dataframe thead th {\n",
       "        text-align: left;\n",
       "    }\n",
       "\n",
       "    .dataframe tbody tr th {\n",
       "        vertical-align: top;\n",
       "    }\n",
       "</style>\n",
       "<table border=\"1\" class=\"dataframe\">\n",
       "  <thead>\n",
       "    <tr style=\"text-align: right;\">\n",
       "      <th>actual_class</th>\n",
       "      <th>T1</th>\n",
       "      <th>T2</th>\n",
       "      <th>T3</th>\n",
       "    </tr>\n",
       "    <tr>\n",
       "      <th>cluster</th>\n",
       "      <th></th>\n",
       "      <th></th>\n",
       "      <th></th>\n",
       "    </tr>\n",
       "  </thead>\n",
       "  <tbody>\n",
       "    <tr>\n",
       "      <th>0</th>\n",
       "      <td>525</td>\n",
       "      <td>28</td>\n",
       "      <td>999</td>\n",
       "    </tr>\n",
       "    <tr>\n",
       "      <th>1</th>\n",
       "      <td>873</td>\n",
       "      <td>17</td>\n",
       "      <td>27</td>\n",
       "    </tr>\n",
       "    <tr>\n",
       "      <th>2</th>\n",
       "      <td>70</td>\n",
       "      <td>1299</td>\n",
       "      <td>183</td>\n",
       "    </tr>\n",
       "  </tbody>\n",
       "</table>\n",
       "</div>"
      ],
      "text/plain": [
       "actual_class   T1    T2   T3\n",
       "cluster                     \n",
       "0             525    28  999\n",
       "1             873    17   27\n",
       "2              70  1299  183"
      ]
     },
     "execution_count": 11,
     "metadata": {},
     "output_type": "execute_result"
    }
   ],
   "source": [
    "\n",
    "import pandas as pd\n",
    "\n",
    "df=pd.DataFrame(list(zip(first_label, clusters)), \\\n",
    "                columns=['actual_class','cluster'])\n",
    "df.head()\n",
    "pd.crosstab( index=df.cluster, columns=df.actual_class)"
   ]
  },
  {
   "cell_type": "code",
   "execution_count": 12,
   "metadata": {},
   "outputs": [
    {
     "name": "stdout",
     "output_type": "stream",
     "text": [
      "             precision    recall  f1-score   support\n",
      "\n",
      "         T1       0.95      0.59      0.73      1468\n",
      "         T2       0.84      0.97      0.90      1344\n",
      "         T3       0.64      0.83      0.72      1209\n",
      "\n",
      "avg / total       0.82      0.79      0.78      4021\n",
      "\n"
     ]
    }
   ],
   "source": [
    "cluster_dict={0:'T3',1:'T1',\n",
    "              2:\"T2\"}\n",
    "\n",
    "# Assign true class to cluster\n",
    "predicted_target=[cluster_dict[i] \\\n",
    "                  for i in clusters]\n",
    "\n",
    "print(metrics.classification_report\\\n",
    "      (first_label, predicted_target))"
   ]
  },
  {
   "cell_type": "code",
   "execution_count": 13,
   "metadata": {},
   "outputs": [],
   "source": [
    "# Task 2 LDA\n",
    "from sklearn.feature_extraction.text import CountVectorizer\n",
    "from sklearn.model_selection import train_test_split\n",
    "\n",
    "tf_vectorizer = CountVectorizer(min_df=5, stop_words='english')\n",
    "tf = tf_vectorizer.fit_transform(text)\n",
    "\n",
    "tf_feature_names = tf_vectorizer.get_feature_names()"
   ]
  },
  {
   "cell_type": "code",
   "execution_count": 14,
   "metadata": {},
   "outputs": [
    {
     "name": "stdout",
     "output_type": "stream",
     "text": [
      "iteration: 1 of max_iter: 25, perplexity: 4341.6247\n",
      "iteration: 2 of max_iter: 25, perplexity: 3810.8042\n",
      "iteration: 3 of max_iter: 25, perplexity: 3613.4095\n",
      "iteration: 4 of max_iter: 25, perplexity: 3542.0727\n",
      "iteration: 5 of max_iter: 25, perplexity: 3510.3360\n",
      "iteration: 6 of max_iter: 25, perplexity: 3494.6043\n",
      "iteration: 7 of max_iter: 25, perplexity: 3486.8335\n",
      "iteration: 8 of max_iter: 25, perplexity: 3482.5631\n",
      "iteration: 9 of max_iter: 25, perplexity: 3479.9532\n",
      "iteration: 10 of max_iter: 25, perplexity: 3478.2463\n",
      "iteration: 11 of max_iter: 25, perplexity: 3477.0911\n",
      "iteration: 12 of max_iter: 25, perplexity: 3476.2575\n",
      "iteration: 13 of max_iter: 25, perplexity: 3475.6379\n",
      "iteration: 14 of max_iter: 25, perplexity: 3475.1612\n",
      "iteration: 15 of max_iter: 25, perplexity: 3474.7901\n",
      "iteration: 16 of max_iter: 25, perplexity: 3474.4798\n",
      "iteration: 17 of max_iter: 25, perplexity: 3474.2084\n",
      "iteration: 18 of max_iter: 25, perplexity: 3473.9778\n",
      "iteration: 19 of max_iter: 25, perplexity: 3473.7875\n",
      "iteration: 20 of max_iter: 25, perplexity: 3473.6228\n",
      "iteration: 21 of max_iter: 25, perplexity: 3473.4731\n",
      "iteration: 22 of max_iter: 25, perplexity: 3473.3369\n",
      "iteration: 23 of max_iter: 25, perplexity: 3473.2096\n",
      "iteration: 24 of max_iter: 25, perplexity: 3473.0873\n",
      "iteration: 25 of max_iter: 25, perplexity: 3472.9770\n"
     ]
    }
   ],
   "source": [
    "from sklearn.decomposition import LatentDirichletAllocation\n",
    "\n",
    "num_topics = 3\n",
    "\n",
    "lda = LatentDirichletAllocation(n_components=num_topics, learning_method='batch',\\\n",
    "                                max_iter=25,verbose=1,\n",
    "                                evaluate_every=1, n_jobs=1,\n",
    "                                random_state=0).fit(tf)"
   ]
  },
  {
   "cell_type": "code",
   "execution_count": 15,
   "metadata": {},
   "outputs": [
    {
     "name": "stdout",
     "output_type": "stream",
     "text": [
      "Topic 0:\n",
      "[('said', 3539.0633796234201), ('new', 2041.0594602372771), ('com', 1607.3692273173613), ('rail', 1489.2629881205316), ('service', 1220.8009734977018), ('high', 1215.8986156946683), ('crash', 1149.6923926374823), ('passengers', 1119.8685524020075), ('travel', 1116.8351983973748), ('plane', 1077.9233656008594), ('car', 1038.7548279132604), ('speed', 1034.2428201250714), ('city', 1033.3282381225163), ('company', 1002.4494883211619), ('cruise', 1001.3154289700263), ('www', 991.62374239142594), ('information', 964.74371217164867), ('year', 957.94236098751196), ('train', 939.00496241926442), ('state', 926.33282986042229)]\n",
      "\n",
      "\n",
      "Topic 1:\n",
      "[('said', 8475.3949501645347), ('people', 3503.5289436974954), ('oil', 2137.3559517343888), ('water', 1589.9122052497851), ('japan', 1496.6949463800054), ('bp', 1384.6165979153297), ('government', 1205.9224282907603), ('disaster', 1168.3205525483907), ('officials', 1153.6937988459797), ('nuclear', 1070.217165778271), ('million', 1033.5365601706901), ('told', 1032.7057251226922), ('killed', 1030.2389630996506), ('gulf', 996.70423200511573), ('coast', 967.26540398168834), ('city', 967.07643209045887), ('spill', 961.86156246794451), ('hit', 933.96644302820664), ('earthquake', 906.2974877912211), ('power', 877.37167642840473)]\n",
      "\n",
      "\n",
      "Topic 2:\n",
      "[('said', 5694.5416702117955), ('percent', 4485.3825041886703), ('comment', 3737.6373316213499), ('year', 3684.3820934891373), ('tax', 3517.6030513037108), ('rate', 2997.4866949868842), ('government', 2573.578778591871), ('obama', 2569.6349034869336), ('economy', 2397.2060900189313), ('new', 2304.0305305228972), ('billion', 2167.4857851987731), ('sign', 2144.4793891947465), ('news', 2086.4518428234073), ('report', 2079.2855014475476), ('economic', 2022.3172591620435), ('users', 1688.6122286210368), ('market', 1597.2767793084361), ('million', 1592.3812129815412), ('budget', 1484.8897122452229), ('jobs', 1469.8446963144822)]\n",
      "\n",
      "\n"
     ]
    }
   ],
   "source": [
    "num_top_words=20\n",
    "\n",
    "for topic_idx, topic in enumerate(lda.components_):\n",
    "    print (\"Topic %d:\" % (topic_idx))\n",
    "    # print out top 20 words per topic \n",
    "    words=[(tf_feature_names[i],topic[i]) for i in topic.argsort()[::-1][0:num_top_words]]\n",
    "    print(words)\n",
    "    print(\"\\n\")\n",
    "    \n",
    "# Topic 0: Travel and Transportation\n",
    "# Topic 1: Disaster and Accident\n",
    "# Topic 3: News and Economy"
   ]
  },
  {
   "cell_type": "code",
   "execution_count": 22,
   "metadata": {},
   "outputs": [
    {
     "name": "stdout",
     "output_type": "stream",
     "text": [
      "[0 2 2 ..., 1 2 0]\n"
     ]
    },
    {
     "data": {
      "text/html": [
       "<div>\n",
       "<style>\n",
       "    .dataframe thead tr:only-child th {\n",
       "        text-align: right;\n",
       "    }\n",
       "\n",
       "    .dataframe thead th {\n",
       "        text-align: left;\n",
       "    }\n",
       "\n",
       "    .dataframe tbody tr th {\n",
       "        vertical-align: top;\n",
       "    }\n",
       "</style>\n",
       "<table border=\"1\" class=\"dataframe\">\n",
       "  <thead>\n",
       "    <tr style=\"text-align: right;\">\n",
       "      <th></th>\n",
       "      <th>actual_class</th>\n",
       "      <th>cluster</th>\n",
       "    </tr>\n",
       "  </thead>\n",
       "  <tbody>\n",
       "    <tr>\n",
       "      <th>0</th>\n",
       "      <td>T3</td>\n",
       "      <td>0</td>\n",
       "    </tr>\n",
       "    <tr>\n",
       "      <th>1</th>\n",
       "      <td>T2</td>\n",
       "      <td>2</td>\n",
       "    </tr>\n",
       "    <tr>\n",
       "      <th>2</th>\n",
       "      <td>T2</td>\n",
       "      <td>2</td>\n",
       "    </tr>\n",
       "    <tr>\n",
       "      <th>3</th>\n",
       "      <td>T3</td>\n",
       "      <td>0</td>\n",
       "    </tr>\n",
       "    <tr>\n",
       "      <th>4</th>\n",
       "      <td>T2</td>\n",
       "      <td>2</td>\n",
       "    </tr>\n",
       "  </tbody>\n",
       "</table>\n",
       "</div>"
      ],
      "text/plain": [
       "  actual_class  cluster\n",
       "0           T3        0\n",
       "1           T2        2\n",
       "2           T2        2\n",
       "3           T3        0\n",
       "4           T2        2"
      ]
     },
     "execution_count": 22,
     "metadata": {},
     "output_type": "execute_result"
    },
    {
     "data": {
      "text/html": [
       "<div>\n",
       "<style>\n",
       "    .dataframe thead tr:only-child th {\n",
       "        text-align: right;\n",
       "    }\n",
       "\n",
       "    .dataframe thead th {\n",
       "        text-align: left;\n",
       "    }\n",
       "\n",
       "    .dataframe tbody tr th {\n",
       "        vertical-align: top;\n",
       "    }\n",
       "</style>\n",
       "<table border=\"1\" class=\"dataframe\">\n",
       "  <thead>\n",
       "    <tr style=\"text-align: right;\">\n",
       "      <th>actual_class</th>\n",
       "      <th>T1</th>\n",
       "      <th>T2</th>\n",
       "      <th>T3</th>\n",
       "    </tr>\n",
       "    <tr>\n",
       "      <th>cluster</th>\n",
       "      <th></th>\n",
       "      <th></th>\n",
       "      <th></th>\n",
       "    </tr>\n",
       "  </thead>\n",
       "  <tbody>\n",
       "    <tr>\n",
       "      <th>0</th>\n",
       "      <td>350</td>\n",
       "      <td>109</td>\n",
       "      <td>1060</td>\n",
       "    </tr>\n",
       "    <tr>\n",
       "      <th>1</th>\n",
       "      <td>1033</td>\n",
       "      <td>37</td>\n",
       "      <td>87</td>\n",
       "    </tr>\n",
       "    <tr>\n",
       "      <th>2</th>\n",
       "      <td>85</td>\n",
       "      <td>1198</td>\n",
       "      <td>62</td>\n",
       "    </tr>\n",
       "  </tbody>\n",
       "</table>\n",
       "</div>"
      ],
      "text/plain": [
       "actual_class    T1    T2    T3\n",
       "cluster                       \n",
       "0              350   109  1060\n",
       "1             1033    37    87\n",
       "2               85  1198    62"
      ]
     },
     "execution_count": 22,
     "metadata": {},
     "output_type": "execute_result"
    }
   ],
   "source": [
    "# Exercise 5.5. Assign documents to topic\n",
    "import numpy as np\n",
    "\n",
    "# Generate topic assignment of each document\n",
    "topic_assign=lda.transform(tf)\n",
    "\n",
    "clusters=topic_assign.argmax(axis=1)\n",
    "# or argsort is also fine\n",
    "\n",
    "import pandas as pd\n",
    "\n",
    "df=pd.DataFrame(list(zip(first_label, clusters)), \\\n",
    "                columns=['actual_class','cluster'])\n",
    "df.head()\n",
    "pd.crosstab( index=df.cluster, columns=df.actual_class)"
   ]
  },
  {
   "cell_type": "code",
   "execution_count": 23,
   "metadata": {},
   "outputs": [
    {
     "name": "stdout",
     "output_type": "stream",
     "text": [
      "             precision    recall  f1-score   support\n",
      "\n",
      "         T1       0.89      0.70      0.79      1468\n",
      "         T2       0.89      0.89      0.89      1344\n",
      "         T3       0.70      0.88      0.78      1209\n",
      "\n",
      "avg / total       0.83      0.82      0.82      4021\n",
      "\n"
     ]
    }
   ],
   "source": [
    "cluster_dict={0:'T3',1:'T1',\n",
    "              2:\"T2\"}\n",
    "\n",
    "# Assign true class to cluster\n",
    "predicted_target=[cluster_dict[i] \\\n",
    "                  for i in clusters]\n",
    "\n",
    "print(metrics.classification_report\\\n",
    "      (first_label, predicted_target))\n",
    "\n",
    "# The performance is close"
   ]
  },
  {
   "cell_type": "code",
   "execution_count": 25,
   "metadata": {},
   "outputs": [],
   "source": [
    "# Task 3: \n",
    "from sklearn.metrics import precision_recall_fscore_support\n",
    "results=[]\n",
    "\n",
    "# align topics with ground truth labels\n",
    "prediction=topic_assign[:, [1,2,0]]\n",
    "\n",
    "for thresh in np.arange(0, 1, 0.05):\n",
    "    \n",
    "    clusters=np.where(prediction>thresh, 1, 0)\n",
    "    \n",
    "    precision, recall, fscore, support=\\\n",
    "     precision_recall_fscore_support(\\\n",
    "     Y, clusters)\n",
    "\n",
    "    results.append(fscore.tolist()+precision.tolist()+recall.tolist())\n"
   ]
  },
  {
   "cell_type": "code",
   "execution_count": 26,
   "metadata": {},
   "outputs": [
    {
     "data": {
      "text/plain": [
       "<matplotlib.axes._subplots.AxesSubplot at 0x1171d9518>"
      ]
     },
     "execution_count": 26,
     "metadata": {},
     "output_type": "execute_result"
    },
    {
     "data": {
      "image/png": "[encoded data removed]",
      "text/plain": [
       "<matplotlib.figure.Figure at 0x1171b4d68>"
      ]
     },
     "metadata": {},
     "output_type": "display_data"
    },
    {
     "data": {
      "text/plain": [
       "<matplotlib.axes._subplots.AxesSubplot at 0x11859cc88>"
      ]
     },
     "execution_count": 26,
     "metadata": {},
     "output_type": "execute_result"
    },
    {
     "data": {
      "image/png": "[encoded data removed]",
      "text/plain": [
       "<matplotlib.figure.Figure at 0x118594630>"
      ]
     },
     "metadata": {},
     "output_type": "display_data"
    },
    {
     "data": {
      "text/plain": [
       "<matplotlib.axes._subplots.AxesSubplot at 0x1185aeba8>"
      ]
     },
     "execution_count": 26,
     "metadata": {},
     "output_type": "execute_result"
    },
    {
     "data": {
      "image/png": "[encoded data removed]",
      "text/plain": [
       "<matplotlib.figure.Figure at 0x1171e5b70>"
      ]
     },
     "metadata": {},
     "output_type": "display_data"
    }
   ],
   "source": [
    "from matplotlib import pyplot as plt\n",
    "df=pd.DataFrame(results, index=np.arange(0, 1, 0.05), columns=['T1.f1','T2.f1','T3.f1',\\\n",
    "                                                               'T1.precision','T2.precision','T3.precision', \\\n",
    "                                                               'T1.recall','T2.recall','T3.recall'])\n",
    "df[['T1.f1','T2.f1','T3.f1']].plot()\n",
    "plt.show()\n",
    "\n",
    "df[['T1.precision','T2.precision','T3.precision']].plot()\n",
    "plt.show()\n",
    "\n",
    "df[['T1.recall','T2.recall','T3.recall']].plot()\n",
    "plt.show()\n",
    "\n",
    "# For T1, the best threshold is around 0.3\n",
    "# For T2, the best threshold is around 0.4\n",
    "# For T3, the best threshold is around 0.5"
   ]
  },
  {
   "cell_type": "code",
   "execution_count": null,
   "metadata": {
    "collapsed": true
   },
   "outputs": [],
   "source": []
  }
 ],
 "metadata": {
  "kernelspec": {
   "display_name": "Python 3",
   "language": "python",
   "name": "python3"
  },
  "language_info": {
   "codemirror_mode": {
    "name": "ipython",
    "version": 3
   },
   "file_extension": ".py",
   "mimetype": "text/x-python",
   "name": "python",
   "nbconvert_exporter": "python",
   "pygments_lexer": "ipython3",
   "version": "3.6.2"
  }
 },
 "nbformat": 4,
 "nbformat_minor": 2
}
